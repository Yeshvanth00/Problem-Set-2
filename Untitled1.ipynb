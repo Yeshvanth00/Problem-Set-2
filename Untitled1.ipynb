{
 "cells": [
  {
   "cell_type": "markdown",
   "id": "c76317b4-a4e0-4223-acf6-09d637bb774b",
   "metadata": {},
   "source": [
    "**Problem Set 2**"
   ]
  },
  {
   "cell_type": "markdown",
   "id": "36d809a8-f4ad-4073-ae90-553a53b3d4e8",
   "metadata": {},
   "source": [
    "**Question 1**"
   ]
  },
  {
   "cell_type": "code",
   "execution_count": 11,
   "id": "94d9fd5e-71d2-4f98-9e8d-14e434a89c59",
   "metadata": {},
   "outputs": [
    {
     "data": {
      "text/plain": [
       "6"
      ]
     },
     "execution_count": 11,
     "metadata": {},
     "output_type": "execute_result"
    }
   ],
   "source": [
    "a = 0\n",
    "\n",
    "def b():\n",
    "    global a\n",
    "    a = c(a)\n",
    "\n",
    "def c(a):\n",
    "    return a + 2\n",
    "\n",
    "b()\n",
    "b()\n",
    "b()\n",
    "\n",
    "a"
   ]
  },
  {
   "cell_type": "markdown",
   "id": "733ef634-3635-4af5-ad7c-6d5d23e9fc3e",
   "metadata": {},
   "source": [
    "**Question 2**"
   ]
  },
  {
   "cell_type": "code",
   "execution_count": 14,
   "id": "8b62b050-56f2-4ae6-8555-8541f8b0452d",
   "metadata": {},
   "outputs": [],
   "source": [
    "def fileLength(filename):\n",
    "    try:\n",
    "        with open(filename, 'r') as infile:\n",
    "            content = infile.read()\n",
    "            \n",
    "        return len(content)\n",
    "    except FileNotFoundError:\n",
    "    \n",
    "        print(f\"File {filename} not found.\")"
   ]
  },
  {
   "cell_type": "code",
   "execution_count": 16,
   "id": "e9cd1c19-fe85-41ba-a36d-e9185aa1f89c",
   "metadata": {},
   "outputs": [
    {
     "name": "stdout",
     "output_type": "stream",
     "text": [
      "File midterm.py not found.\n",
      "None\n"
     ]
    }
   ],
   "source": [
    "print(fileLength('midterm.py'))"
   ]
  },
  {
   "cell_type": "markdown",
   "id": "a2bb9f18-b316-4efe-8431-f891f259fd90",
   "metadata": {},
   "source": [
    "**Question 3**"
   ]
  },
  {
   "cell_type": "code",
   "execution_count": 23,
   "id": "72c44f1e-4137-4e12-af8a-99563ff1fb6b",
   "metadata": {},
   "outputs": [],
   "source": [
    "class Marsupial:\n",
    "    def _init_(self):\n",
    "        self.pouch = []\n",
    "\n",
    "    def put_in_pouch(self, item):\n",
    "        self.pouch.append(item)\n",
    "\n",
    "    def pouch_contents(self):\n",
    "        return self.pouch\n",
    "\n",
    "class Kangaroo(Marsupial):\n",
    "    def _init_(self, x, y):\n",
    "        super()._init_()\n",
    "        self.x = x\n",
    "        self.y = y\n",
    "\n",
    "    def jump(self, dx, dy):\n",
    "        self.x += dx\n",
    "        self.y += dy\n",
    "\n",
    "    def _str_(self):\n",
    "        return f\"I am a Kangaroo located at coordinates ({self.x},{self.y})\""
   ]
  },
  {
   "cell_type": "markdown",
   "id": "2347619a-5108-45ba-a0e7-e4f90767c3f6",
   "metadata": {},
   "source": [
    "**Question 4**"
   ]
  },
  {
   "cell_type": "code",
   "execution_count": 32,
   "id": "7cab2108-cce5-4620-846d-ecea08836a33",
   "metadata": {},
   "outputs": [],
   "source": [
    "def collatz(x):\n",
    "    print(x)\n",
    "    if x == 1:\n",
    "        return\n",
    "    elif x % 2 == 0:\n",
    "        collatz(x // 2)  \n",
    "    else:\n",
    "        collatz(3 * x + 1)  \n"
   ]
  },
  {
   "cell_type": "code",
   "execution_count": 34,
   "id": "9ca0f975-2cda-41e5-95c2-b0a7364a6cce",
   "metadata": {},
   "outputs": [
    {
     "name": "stdout",
     "output_type": "stream",
     "text": [
      "1\n",
      "---\n",
      "10\n",
      "5\n",
      "16\n",
      "8\n",
      "4\n",
      "2\n",
      "1\n"
     ]
    }
   ],
   "source": [
    "collatz(1)\n",
    "print(\"---\")\n",
    "collatz(10)"
   ]
  },
  {
   "cell_type": "markdown",
   "id": "51f70cdc-8ace-4614-901d-d94ea7813081",
   "metadata": {},
   "source": [
    "**Question 5**"
   ]
  },
  {
   "cell_type": "code",
   "execution_count": 37,
   "id": "9124509d-2af8-4460-8f3a-47d776fc45ca",
   "metadata": {},
   "outputs": [],
   "source": [
    "def binary(n):\n",
    "    if n < 2:\n",
    "        print(n, end='')\n",
    "    else:\n",
    "        binary(n // 2)\n",
    "        print(n % 2, end='')"
   ]
  },
  {
   "cell_type": "code",
   "execution_count": 39,
   "id": "e7d10954-385a-4507-96cd-e253484fddbd",
   "metadata": {},
   "outputs": [
    {
     "name": "stdout",
     "output_type": "stream",
     "text": [
      "0\n",
      "1\n",
      "11\n",
      "1001"
     ]
    }
   ],
   "source": [
    "binary(0)   \n",
    "print()     \n",
    "binary(1)   \n",
    "print()     \n",
    "binary(3)   \n",
    "print()     \n",
    "binary(9)   "
   ]
  },
  {
   "cell_type": "markdown",
   "id": "6c767af8-ba5a-4ff0-ab16-86ff856acc43",
   "metadata": {},
   "source": [
    "**Question 6**"
   ]
  },
  {
   "cell_type": "code",
   "execution_count": 48,
   "id": "f6186b30-abb3-4db8-b650-998d3d055444",
   "metadata": {},
   "outputs": [],
   "source": [
    "from html.parser import HTMLParser\n",
    "\n",
    "class HeadingParser(HTMLParser):\n",
    "    def __init__(self):\n",
    "        super().__init__()\n",
    "        self.in_heading = False  \n",
    "        self.heading_level = 0   \n",
    "\n",
    "    def handle_starttag(self, tag, attrs):\n",
    "        if tag in ['h1', 'h2', 'h3', 'h4', 'h5', 'h6']:\n",
    "            self.in_heading = True\n",
    "            self.heading_level = int(tag[1])\n",
    "\n",
    "    def handle_endtag(self, tag):\n",
    "        if tag in ['h1', 'h2', 'h3', 'h4', 'h5', 'h6']:\n",
    "            self.in_heading = False\n",
    "\n",
    "    def handle_data(self, data):\n",
    "        if self.in_heading:\n",
    "            print(\" \" * (self.heading_level - 1) + data.strip())"
   ]
  },
  {
   "cell_type": "markdown",
   "id": "db34e39a-2524-49b9-9355-8e65e3a97e0c",
   "metadata": {},
   "source": [
    "**Question 7**"
   ]
  },
  {
   "cell_type": "code",
   "execution_count": 51,
   "id": "b74754c7-47fe-4e84-9376-e7154e62d34c",
   "metadata": {},
   "outputs": [],
   "source": [
    "import requests\n",
    "from bs4 import BeautifulSoup\n",
    "from urllib.parse import urljoin\n",
    "\n",
    "def webdir(url, depth, indent):\n",
    "    print(\" \" * indent + url)\n",
    "   \n",
    "    if depth == 0:\n",
    "        return\n",
    "\n",
    "    try:\n",
    "        response = requests.get(url)\n",
    "        response.raise_for_status()  \n",
    "        soup = BeautifulSoup(response.text, 'html.parser')\n",
    "\n",
    "        for link in soup.find_all('a', href=True):\n",
    "            new_url = urljoin(url, link['href'])\n",
    "            webdir(new_url, depth - 1, indent + 2)\n",
    "\n",
    "    except requests.exceptions.RequestException as e:\n",
    "        print(\" \" * indent + \"Error: Could not retrieve URL -\", e)\n"
   ]
  },
  {
   "cell_type": "code",
   "execution_count": 53,
   "id": "81a66dcc-5694-4538-ab7d-f0e0bca1f3ce",
   "metadata": {},
   "outputs": [
    {
     "name": "stdout",
     "output_type": "stream",
     "text": [
      "http://reed.cs.depaul.edu/lperkovic/csc242/test1.html\n",
      "Error: Could not retrieve URL - 404 Client Error:  for url: http://reed.cs.depaul.edu/lperkovic/csc242/test1.html\n"
     ]
    }
   ],
   "source": [
    "webdir('http://reed.cs.depaul.edu/lperkovic/csc242/test1.html', 2, 0)"
   ]
  },
  {
   "cell_type": "markdown",
   "id": "6d8955de-0c66-428d-a915-a323690e14e9",
   "metadata": {},
   "source": [
    "**Question 8**"
   ]
  },
  {
   "cell_type": "code",
   "execution_count": 56,
   "id": "a66121b4-0fce-4cc1-b854-d6a573e542ce",
   "metadata": {},
   "outputs": [
    {
     "name": "stdout",
     "output_type": "stream",
     "text": [
      "a) All the temperature data:\n",
      "    Temperature\n",
      "0          24.8\n",
      "1          28.4\n",
      "2          27.9\n",
      "3          27.6\n",
      "4           4.2\n",
      "5           8.3\n",
      "6          15.7\n",
      "7          10.4\n",
      "8          13.6\n",
      "9          20.7\n",
      "10         27.7\n",
      "11         22.2\n",
      "\n",
      "b) All the cities, but without repetition:\n",
      "     City\n",
      "0  Mumbai\n",
      "1  London\n",
      "2   Cairo\n",
      "\n",
      "c) All the records for India:\n",
      "     City Country  Season  Temperature  Rainfall\n",
      "0  Mumbai   India  Winter         24.8       5.9\n",
      "1  Mumbai   India  Spring         28.4      16.2\n",
      "2  Mumbai   India  Summer         27.9    1549.4\n",
      "3  Mumbai   India    Fall         27.6     346.0\n",
      "\n",
      "d) All the Fall records:\n",
      "     City         Country Season  Temperature  Rainfall\n",
      "0  Mumbai           India   Fall         27.6     346.0\n",
      "1  London  United Kingdom   Fall         10.4     218.5\n",
      "2   Cairo           Egypt   Fall         22.2       4.5\n",
      "\n",
      "e) The city, country, and season with average rainfall between 200 and 400 mm:\n",
      "     City         Country  Season\n",
      "0  Mumbai           India    Fall\n",
      "1  London  United Kingdom  Winter\n",
      "2  London  United Kingdom    Fall\n",
      "\n",
      "f) The city and country with Fall temperature above 20 degrees, ordered by temperature:\n",
      "     City Country\n",
      "0   Cairo   Egypt\n",
      "1  Mumbai   India\n",
      "\n",
      "g) The total annual rainfall for Cairo:\n",
      "   Total_Annual_Rainfall\n",
      "0                   27.6\n",
      "\n",
      "h) The total rainfall for each season:\n",
      "   Season  Total_Rainfall\n",
      "0    Fall           569.0\n",
      "1  Spring           192.3\n",
      "2  Summer          1706.5\n",
      "3  Winter           230.1\n"
     ]
    }
   ],
   "source": [
    "import sqlite3\n",
    "import pandas as pd\n",
    "\n",
    "conn = sqlite3.connect(':memory:')\n",
    "cursor = conn.cursor()\n",
    "\n",
    "cursor.execute('''\n",
    "    CREATE TABLE weather (\n",
    "        City TEXT,\n",
    "        Country TEXT,\n",
    "        Season TEXT,\n",
    "        Temperature REAL,\n",
    "        Rainfall REAL\n",
    "    )\n",
    "''')\n",
    "\n",
    "data = [\n",
    "    ('Mumbai', 'India', 'Winter', 24.8, 5.9),\n",
    "    ('Mumbai', 'India', 'Spring', 28.4, 16.2),\n",
    "    ('Mumbai', 'India', 'Summer', 27.9, 1549.4),\n",
    "    ('Mumbai', 'India', 'Fall', 27.6, 346.0),\n",
    "    ('London', 'United Kingdom', 'Winter', 4.2, 207.7),\n",
    "    ('London', 'United Kingdom', 'Spring', 8.3, 169.6),\n",
    "    ('London', 'United Kingdom', 'Summer', 15.7, 157.0),\n",
    "    ('London', 'United Kingdom', 'Fall', 10.4, 218.5),\n",
    "    ('Cairo', 'Egypt', 'Winter', 13.6, 16.5),\n",
    "    ('Cairo', 'Egypt', 'Spring', 20.7, 6.5),\n",
    "    ('Cairo', 'Egypt', 'Summer', 27.7, 0.1),\n",
    "    ('Cairo', 'Egypt', 'Fall', 22.2, 4.5)\n",
    "]\n",
    "cursor.executemany('INSERT INTO weather VALUES (?, ?, ?, ?, ?)', data)\n",
    "conn.commit()\n",
    "\n",
    "def run_query(query):\n",
    "    return pd.read_sql_query(query, conn)\n",
    "\n",
    "print(\"a) All the temperature data:\")\n",
    "print(run_query('SELECT Temperature FROM weather'))\n",
    "\n",
    "print(\"\\nb) All the cities, but without repetition:\")\n",
    "print(run_query('SELECT DISTINCT City FROM weather'))\n",
    "\n",
    "print(\"\\nc) All the records for India:\")\n",
    "print(run_query('SELECT * FROM weather WHERE Country = \"India\"'))\n",
    "\n",
    "print(\"\\nd) All the Fall records:\")\n",
    "print(run_query('SELECT * FROM weather WHERE Season = \"Fall\"'))\n",
    "\n",
    "print(\"\\ne) The city, country, and season with average rainfall between 200 and 400 mm:\")\n",
    "print(run_query('''\n",
    "    SELECT City, Country, Season\n",
    "    FROM weather\n",
    "    WHERE Rainfall BETWEEN 200 AND 400\n",
    "'''))\n",
    "\n",
    "print(\"\\nf) The city and country with Fall temperature above 20 degrees, ordered by temperature:\")\n",
    "print(run_query('''\n",
    "    SELECT City, Country\n",
    "    FROM weather\n",
    "    WHERE Season = \"Fall\" AND Temperature > 20\n",
    "    ORDER BY Temperature ASC\n",
    "'''))\n",
    "\n",
    "print(\"\\ng) The total annual rainfall for Cairo:\")\n",
    "print(run_query('''\n",
    "    SELECT SUM(Rainfall) AS Total_Annual_Rainfall\n",
    "    FROM weather\n",
    "    WHERE City = \"Cairo\"\n",
    "'''))\n",
    "\n",
    "print(\"\\nh) The total rainfall for each season:\")\n",
    "print(run_query('''\n",
    "    SELECT Season, SUM(Rainfall) AS Total_Rainfall\n",
    "    FROM weather\n",
    "    GROUP BY Season\n",
    "'''))\n",
    "\n",
    "conn.close()"
   ]
  },
  {
   "cell_type": "markdown",
   "id": "2b985c4d-8449-455f-b586-db6e6b5095d8",
   "metadata": {},
   "source": [
    "**Question 9**"
   ]
  },
  {
   "cell_type": "code",
   "execution_count": 59,
   "id": "e573bd8d-a768-4c40-9443-85dfc1bdf7e2",
   "metadata": {},
   "outputs": [
    {
     "name": "stdout",
     "output_type": "stream",
     "text": [
      "a) ['THE', 'QUICK', 'BROWN', 'FOX', 'JUMPS', 'OVER', 'THE', 'LAZY', 'DOG']\n",
      "b) ['the', 'quick', 'brown', 'fox', 'jumps', 'over', 'the', 'lazy', 'dog']\n",
      "c) [3, 5, 5, 3, 5, 4, 3, 4, 3]\n",
      "d) [['THE', 'the', 3], ['QUICK', 'quick', 5], ['BROWN', 'brown', 5], ['FOX', 'fox', 3], ['JUMPS', 'jumps', 5], ['OVER', 'over', 4], ['THE', 'the', 3], ['LAZY', 'lazy', 4], ['DOG', 'dog', 3]]\n",
      "e) ['quick', 'brown', 'jumps', 'over', 'lazy']\n"
     ]
    }
   ],
   "source": [
    "words = ['The', 'quick', 'brown', 'fox', 'jumps', 'over', 'the', 'lazy', 'dog']\n",
    "\n",
    "uppercase_words = [word.upper() for word in words]\n",
    "print(\"a)\", uppercase_words)\n",
    "\n",
    "lowercase_words = [word.lower() for word in words]\n",
    "print(\"b)\", lowercase_words)\n",
    "\n",
    "word_lengths = [len(word) for word in words]\n",
    "print(\"c)\", word_lengths)\n",
    "\n",
    "word_details = [[word.upper(), word.lower(), len(word)] for word in words]\n",
    "print(\"d)\", word_details)\n",
    "\n",
    "words_four_or_more = [word for word in words if len(word) >= 4]\n",
    "print(\"e)\", words_four_or_more)"
   ]
  }
 ],
 "metadata": {
  "kernelspec": {
   "display_name": "Python 3 (ipykernel)",
   "language": "python",
   "name": "python3"
  },
  "language_info": {
   "codemirror_mode": {
    "name": "ipython",
    "version": 3
   },
   "file_extension": ".py",
   "mimetype": "text/x-python",
   "name": "python",
   "nbconvert_exporter": "python",
   "pygments_lexer": "ipython3",
   "version": "3.12.7"
  }
 },
 "nbformat": 4,
 "nbformat_minor": 5
}
